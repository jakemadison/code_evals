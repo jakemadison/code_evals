{
 "metadata": {
  "name": "",
  "signature": "sha256:cb0a3eead3be62e80ccef1377bbf253072a13fee2d8fe0e16ee3e06f80898cf5"
 },
 "nbformat": 3,
 "nbformat_minor": 0,
 "worksheets": [
  {
   "cells": [
    {
     "cell_type": "code",
     "collapsed": false,
     "input": [
      "import random\n",
      "\n",
      "names = ['Mary', 'Isla', 'Sam']\n",
      "code_names = ['Mr. Pink', 'Mr. Orange', 'Mr. Blonde']\n",
      "\n",
      "for i in range(len(names)):\n",
      "    names[i] = random.choice(code_names)\n",
      "\n",
      "print(names)"
     ],
     "language": "python",
     "metadata": {},
     "outputs": [
      {
       "output_type": "stream",
       "stream": "stdout",
       "text": [
        "['Mr. Pink', 'Mr. Blonde', 'Mr. Blonde']\n"
       ]
      }
     ],
     "prompt_number": 1
    },
    {
     "cell_type": "code",
     "collapsed": false,
     "input": [
      "names = ['Mary', 'Isla', 'Sam']\n",
      "\n",
      "secret_names = map(lambda x: random.choice(['Mr. Pink',\n",
      "                                            'Mr. Orange',\n",
      "                                            'Mr. Blonde']), names)\n",
      "for s in secret_names:\n",
      "    print(s)"
     ],
     "language": "python",
     "metadata": {},
     "outputs": [
      {
       "output_type": "stream",
       "stream": "stdout",
       "text": [
        "Mr. Pink\n",
        "Mr. Pink\n",
        "Mr. Orange\n"
       ]
      }
     ],
     "prompt_number": 11
    },
    {
     "cell_type": "code",
     "collapsed": false,
     "input": [
      "names = ['Mary', 'Isla', 'Sam']\n",
      "\n",
      "for i in range(len(names)):\n",
      "    names[i] = hash(names[i])\n",
      "\n",
      "print(names)"
     ],
     "language": "python",
     "metadata": {},
     "outputs": [
      {
       "output_type": "stream",
       "stream": "stdout",
       "text": [
        "[-918813729, 357867411, 1946958426]\n"
       ]
      }
     ],
     "prompt_number": 15
    },
    {
     "cell_type": "code",
     "collapsed": false,
     "input": [
      "sec_names = map(lambda x: hash(x), names)\n",
      "print([x for x in sec_names])"
     ],
     "language": "python",
     "metadata": {},
     "outputs": [
      {
       "output_type": "stream",
       "stream": "stdout",
       "text": [
        "[-918813729, 357867411, 1946958426]\n"
       ]
      }
     ],
     "prompt_number": 18
    },
    {
     "cell_type": "code",
     "collapsed": false,
     "input": [
      "print(\" \".join('fzbz' if x%15==0 else 'fz' if x%3==0 else 'bz' if x%5==0 else str(x) for x in range(1,101)))"
     ],
     "language": "python",
     "metadata": {},
     "outputs": [
      {
       "output_type": "stream",
       "stream": "stdout",
       "text": [
        "1 2 fz 4 bz fz 7 8 fz bz 11 fz 13 14 fzbz 16 17 fz 19 bz fz 22 23 fz bz 26 fz 28 29 fzbz 31 32 fz 34 bz fz 37 38 fz bz 41 fz 43 44 fzbz 46 47 fz 49 bz fz 52 53 fz bz 56 fz 58 59 fzbz 61 62 fz 64 bz fz 67 68 fz bz 71 fz 73 74 fzbz 76 77 fz 79 bz fz 82 83 fz bz 86 fz 88 89 fzbz 91 92 fz 94 bz fz 97 98 fz bz\n"
       ]
      }
     ],
     "prompt_number": 21
    },
    {
     "cell_type": "code",
     "collapsed": false,
     "input": [],
     "language": "python",
     "metadata": {},
     "outputs": []
    }
   ],
   "metadata": {}
  }
 ]
}